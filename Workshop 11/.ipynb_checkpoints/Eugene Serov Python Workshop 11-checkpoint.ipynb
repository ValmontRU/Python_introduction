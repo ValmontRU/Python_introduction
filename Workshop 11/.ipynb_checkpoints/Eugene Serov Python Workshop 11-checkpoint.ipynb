{
 "cells": [
  {
   "cell_type": "code",
   "execution_count": 1,
   "id": "ac3b089b",
   "metadata": {},
   "outputs": [],
   "source": [
    "from sympy import *"
   ]
  },
  {
   "cell_type": "markdown",
   "id": "7523fa11",
   "metadata": {},
   "source": [
    "# Дана функция f(x) = x^3 - 6x^2 + 4x + 12"
   ]
  },
  {
   "cell_type": "code",
   "execution_count": 2,
   "id": "3ae6e0e9",
   "metadata": {},
   "outputs": [
    {
     "data": {
      "text/latex": [
       "$\\displaystyle x^{3} - 6 x^{2} + 4 x + 12$"
      ],
      "text/plain": [
       "x**3 - 6*x**2 + 4*x + 12"
      ]
     },
     "execution_count": 2,
     "metadata": {},
     "output_type": "execute_result"
    }
   ],
   "source": [
    "x = Symbol('x')\n",
    "f = x ** 3 - 6 * x ** 2 + 4 * x + 12\n",
    "f"
   ]
  },
  {
   "cell_type": "markdown",
   "id": "b4cf8967",
   "metadata": {},
   "source": [
    "### 1. Определить корни"
   ]
  },
  {
   "cell_type": "code",
   "execution_count": 3,
   "id": "4ffd6342",
   "metadata": {},
   "outputs": [
    {
     "data": {
      "text/plain": [
       "((2.5173040450083057-1.0587911840678754e-22j),\n",
       " (4.534070196722731+5.293955920339377e-23j),\n",
       " (-1.051374241731037+5.293955920339377e-23j))"
      ]
     },
     "execution_count": 3,
     "metadata": {},
     "output_type": "execute_result"
    }
   ],
   "source": [
    "root1, root2, root3 = solve(f)\n",
    "complex(root1), complex(root2), complex(root3)"
   ]
  },
  {
   "cell_type": "markdown",
   "id": "daa84831",
   "metadata": {},
   "source": [
    "### 2. Найти интервалы, на которых функция возрастает"
   ]
  },
  {
   "cell_type": "code",
   "execution_count": 4,
   "id": "03df205f",
   "metadata": {},
   "outputs": [
    {
     "data": {
      "text/latex": [
       "$\\displaystyle \\left(-\\infty < x \\wedge x < 2 - \\frac{2 \\sqrt{6}}{3}\\right) \\vee \\left(x < \\infty \\wedge \\frac{2 \\sqrt{6}}{3} + 2 < x\\right)$"
      ],
      "text/plain": [
       "((-oo < x) & (x < 2 - 2*sqrt(6)/3)) | ((x < oo) & (2*sqrt(6)/3 + 2 < x))"
      ]
     },
     "execution_count": 4,
     "metadata": {},
     "output_type": "execute_result"
    }
   ],
   "source": [
    "df = diff(f)\n",
    "solve(df>0)"
   ]
  },
  {
   "cell_type": "markdown",
   "id": "9e7f65c7",
   "metadata": {},
   "source": [
    "### 3. Найти интервалы, на которых функция убывает"
   ]
  },
  {
   "cell_type": "code",
   "execution_count": 5,
   "id": "02ba6741",
   "metadata": {},
   "outputs": [
    {
     "data": {
      "text/latex": [
       "$\\displaystyle x < \\frac{2 \\sqrt{6}}{3} + 2 \\wedge 2 - \\frac{2 \\sqrt{6}}{3} < x$"
      ],
      "text/plain": [
       "(x < 2*sqrt(6)/3 + 2) & (2 - 2*sqrt(6)/3 < x)"
      ]
     },
     "execution_count": 5,
     "metadata": {},
     "output_type": "execute_result"
    }
   ],
   "source": [
    "solve(df<0)"
   ]
  },
  {
   "cell_type": "markdown",
   "id": "6fb7d759",
   "metadata": {},
   "source": [
    "### 4. Построить график"
   ]
  },
  {
   "cell_type": "code",
   "execution_count": 6,
   "id": "b4231780",
   "metadata": {},
   "outputs": [
    {
     "data": {
      "image/png": "[encoded data removed]",
      "text/plain": [
       "<Figure size 432x288 with 1 Axes>"
      ]
     },
     "metadata": {
      "needs_background": "light"
     },
     "output_type": "display_data"
    },
    {
     "data": {
      "text/plain": [
       "<sympy.plotting.plot.Plot at 0x6d3b118>"
      ]
     },
     "execution_count": 6,
     "metadata": {},
     "output_type": "execute_result"
    }
   ],
   "source": [
    "plot(f)"
   ]
  },
  {
   "cell_type": "markdown",
   "id": "97c7aeb7",
   "metadata": {},
   "source": [
    "### 5. Вычислить вершину"
   ]
  },
  {
   "cell_type": "code",
   "execution_count": 7,
   "id": "e675860d",
   "metadata": {},
   "outputs": [
    {
     "data": {
      "text/plain": [
       "(0.36700683814454793, 3.632993161855452)"
      ]
     },
     "execution_count": 7,
     "metadata": {},
     "output_type": "execute_result"
    }
   ],
   "source": [
    "top1, top2 = solve(df)\n",
    "float(top1), float(top2)"
   ]
  },
  {
   "cell_type": "markdown",
   "id": "dd00bee6",
   "metadata": {},
   "source": [
    "### 6. Определить промежутки, на котором f > 0"
   ]
  },
  {
   "cell_type": "code",
   "execution_count": 8,
   "id": "12e83f63",
   "metadata": {},
   "outputs": [
    {
     "data": {
      "text/latex": [
       "$\\displaystyle \\left(x < \\infty \\wedge \\operatorname{CRootOf} {\\left(x^{3} - 6 x^{2} + 4 x + 12, 2\\right)} < x\\right) \\vee \\left(x < \\operatorname{CRootOf} {\\left(x^{3} - 6 x^{2} + 4 x + 12, 1\\right)} \\wedge \\operatorname{CRootOf} {\\left(x^{3} - 6 x^{2} + 4 x + 12, 0\\right)} < x\\right)$"
      ],
      "text/plain": [
       "((x < oo) & (CRootOf(x**3 - 6*x**2 + 4*x + 12, 2) < x)) | ((x < CRootOf(x**3 - 6*x**2 + 4*x + 12, 1)) & (CRootOf(x**3 - 6*x**2 + 4*x + 12, 0) < x))"
      ]
     },
     "execution_count": 8,
     "metadata": {},
     "output_type": "execute_result"
    }
   ],
   "source": [
    "solve(f>0)"
   ]
  },
  {
   "cell_type": "markdown",
   "id": "5925cc35",
   "metadata": {},
   "source": [
    "### 7. Определить промежутки, на котором f < 0"
   ]
  },
  {
   "cell_type": "code",
   "execution_count": 9,
   "id": "b451d3fb",
   "metadata": {},
   "outputs": [
    {
     "data": {
      "text/latex": [
       "$\\displaystyle \\left(-\\infty < x \\wedge x < \\operatorname{CRootOf} {\\left(x^{3} - 6 x^{2} + 4 x + 12, 0\\right)}\\right) \\vee \\left(x < \\operatorname{CRootOf} {\\left(x^{3} - 6 x^{2} + 4 x + 12, 2\\right)} \\wedge \\operatorname{CRootOf} {\\left(x^{3} - 6 x^{2} + 4 x + 12, 1\\right)} < x\\right)$"
      ],
      "text/plain": [
       "((-oo < x) & (x < CRootOf(x**3 - 6*x**2 + 4*x + 12, 0))) | ((x < CRootOf(x**3 - 6*x**2 + 4*x + 12, 2)) & (CRootOf(x**3 - 6*x**2 + 4*x + 12, 1) < x))"
      ]
     },
     "execution_count": 9,
     "metadata": {},
     "output_type": "execute_result"
    }
   ],
   "source": [
    "solve(f<0)"
   ]
  },
  {
   "cell_type": "markdown",
   "id": "b39c1603",
   "metadata": {},
   "source": [
    "# Дана функция f(x) = 5x^3 - x^2 - 20x + 4"
   ]
  },
  {
   "cell_type": "code",
   "execution_count": 10,
   "id": "b9eba9b1",
   "metadata": {},
   "outputs": [
    {
     "data": {
      "text/latex": [
       "$\\displaystyle 5 x^{3} - x^{2} - 20 x + 4$"
      ],
      "text/plain": [
       "5*x**3 - x**2 - 20*x + 4"
      ]
     },
     "execution_count": 10,
     "metadata": {},
     "output_type": "execute_result"
    }
   ],
   "source": [
    "x = Symbol('x')\n",
    "f = 5* x ** 3 - x ** 2 - 20 * x + 4\n",
    "f"
   ]
  },
  {
   "cell_type": "markdown",
   "id": "486995e3",
   "metadata": {},
   "source": [
    "### 1. Определить корни"
   ]
  },
  {
   "cell_type": "code",
   "execution_count": 11,
   "id": "d137b89b",
   "metadata": {},
   "outputs": [
    {
     "data": {
      "text/plain": [
       "(-2.0, 0.2, 2.0)"
      ]
     },
     "execution_count": 11,
     "metadata": {},
     "output_type": "execute_result"
    }
   ],
   "source": [
    "root1, root2, root3 = solve(f)\n",
    "float(root1), float(root2), float(root3)"
   ]
  },
  {
   "cell_type": "markdown",
   "id": "d27a3f8f",
   "metadata": {},
   "source": [
    "### 2. Найти интервалы, на которых функция возрастает"
   ]
  },
  {
   "cell_type": "code",
   "execution_count": 12,
   "id": "df80471b",
   "metadata": {},
   "outputs": [
    {
     "data": {
      "text/latex": [
       "$\\displaystyle \\left(-\\infty < x \\wedge x < \\frac{1}{15} - \\frac{\\sqrt{301}}{15}\\right) \\vee \\left(x < \\infty \\wedge \\frac{1}{15} + \\frac{\\sqrt{301}}{15} < x\\right)$"
      ],
      "text/plain": [
       "((-oo < x) & (x < 1/15 - sqrt(301)/15)) | ((x < oo) & (1/15 + sqrt(301)/15 < x))"
      ]
     },
     "execution_count": 12,
     "metadata": {},
     "output_type": "execute_result"
    }
   ],
   "source": [
    "df = diff(f)\n",
    "solve(df>0)"
   ]
  },
  {
   "cell_type": "markdown",
   "id": "ff9f63d7",
   "metadata": {},
   "source": [
    "### 3. Найти интервалы, на которых функция убывает"
   ]
  },
  {
   "cell_type": "code",
   "execution_count": 13,
   "id": "16e39766",
   "metadata": {},
   "outputs": [
    {
     "data": {
      "text/latex": [
       "$\\displaystyle x < \\frac{1}{15} + \\frac{\\sqrt{301}}{15} \\wedge \\frac{1}{15} - \\frac{\\sqrt{301}}{15} < x$"
      ],
      "text/plain": [
       "(x < 1/15 + sqrt(301)/15) & (1/15 - sqrt(301)/15 < x)"
      ]
     },
     "execution_count": 13,
     "metadata": {},
     "output_type": "execute_result"
    }
   ],
   "source": [
    "solve(df<0)"
   ]
  },
  {
   "cell_type": "markdown",
   "id": "00bd109b",
   "metadata": {},
   "source": [
    "### 4. Построить график"
   ]
  },
  {
   "cell_type": "code",
   "execution_count": 14,
   "id": "ffaee3c7",
   "metadata": {},
   "outputs": [
    {
     "data": {
      "image/png": "[encoded data removed]",
      "text/plain": [
       "<Figure size 432x288 with 1 Axes>"
      ]
     },
     "metadata": {
      "needs_background": "light"
     },
     "output_type": "display_data"
    },
    {
     "data": {
      "text/plain": [
       "<sympy.plotting.plot.Plot at 0x6ab4b68>"
      ]
     },
     "execution_count": 14,
     "metadata": {},
     "output_type": "execute_result"
    }
   ],
   "source": [
    "plot(f)"
   ]
  },
  {
   "cell_type": "markdown",
   "id": "e108a033",
   "metadata": {},
   "source": [
    "### 5. Вычислить вершину"
   ]
  },
  {
   "cell_type": "code",
   "execution_count": 15,
   "id": "a22750f7",
   "metadata": {},
   "outputs": [
    {
     "data": {
      "text/plain": [
       "(-1.0899567715264982, 1.2232901048598315)"
      ]
     },
     "execution_count": 15,
     "metadata": {},
     "output_type": "execute_result"
    }
   ],
   "source": [
    "top1, top2 = solve(df)\n",
    "float(top1), float(top2)"
   ]
  },
  {
   "cell_type": "markdown",
   "id": "afb35002",
   "metadata": {},
   "source": [
    "### 6. Определить промежутки, на котором f > 0"
   ]
  },
  {
   "cell_type": "code",
   "execution_count": 16,
   "id": "f07a8b93",
   "metadata": {},
   "outputs": [
    {
     "data": {
      "text/latex": [
       "$\\displaystyle \\left(-2 < x \\wedge x < \\frac{1}{5}\\right) \\vee \\left(2 < x \\wedge x < \\infty\\right)$"
      ],
      "text/plain": [
       "((-2 < x) & (x < 1/5)) | ((2 < x) & (x < oo))"
      ]
     },
     "execution_count": 16,
     "metadata": {},
     "output_type": "execute_result"
    }
   ],
   "source": [
    "solve(f>0)"
   ]
  },
  {
   "cell_type": "markdown",
   "id": "e49459a4",
   "metadata": {},
   "source": [
    "### 7. Определить промежутки, на котором f < 0"
   ]
  },
  {
   "cell_type": "code",
   "execution_count": 17,
   "id": "50e483b9",
   "metadata": {},
   "outputs": [
    {
     "data": {
      "text/latex": [
       "$\\displaystyle \\left(-\\infty < x \\wedge x < -2\\right) \\vee \\left(\\frac{1}{5} < x \\wedge x < 2\\right)$"
      ],
      "text/plain": [
       "((-oo < x) & (x < -2)) | ((1/5 < x) & (x < 2))"
      ]
     },
     "execution_count": 17,
     "metadata": {},
     "output_type": "execute_result"
    }
   ],
   "source": [
    "solve(f<0)"
   ]
  }
 ],
 "metadata": {
  "kernelspec": {
   "display_name": "Python 3 (ipykernel)",
   "language": "python",
   "name": "python3"
  },
  "language_info": {
   "codemirror_mode": {
    "name": "ipython",
    "version": 3
   },
   "file_extension": ".py",
   "mimetype": "text/x-python",
   "name": "python",
   "nbconvert_exporter": "python",
   "pygments_lexer": "ipython3",
   "version": "3.9.12"
  }
 },
 "nbformat": 4,
 "nbformat_minor": 5
}
